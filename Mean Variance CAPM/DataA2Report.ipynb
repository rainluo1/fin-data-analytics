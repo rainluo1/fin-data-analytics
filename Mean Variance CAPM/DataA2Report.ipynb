{
 "cells": [
  {
   "cell_type": "markdown",
   "metadata": {},
   "source": [
    "### Part 1 - 3\n",
    "\n",
    "#### Part 1 Download data from CRSP Monthly Stock Return\n",
    "File downloaded in `CFM301_A2_Data.xlsx`\n",
    "#### Part 2 Download Quarterly Financial Return Info\n",
    "File downloaded in `CFM301_A2_Quarter.xlsx`\n",
    "\n",
    "#### Part 3:\n",
    "Data is merged and stored in the variable `data_merged`"
   ]
  },
  {
   "cell_type": "markdown",
   "metadata": {},
   "source": [
    "### Part 4\n",
    "Note: Different columns have different units (i.e. Shaers outstanding are reported in millions). Adjustments have been made to ensure the values lines up.\n",
    "\n",
    "Company size for each company is stored in the variable `lnsize`. \n",
    "\n",
    "Book to market ratios for each comapny is stored in the variable `bk2mkt`. It is computed using the amount of common shares divided by the company size.\n",
    "\n",
    "The two ways to compute earning per share ratio is stored in the variable `eP1_epsxq_prc` and `eP2_ibq_mkt`. \n",
    "\n",
    "Below is a table outlineing their mean and standard deviation:\n",
    "| Variable          | Mean      | Standard Deviation | 1st Percentile      | 99st Percentile      |\n",
    "|-------------------|-----------|--------------------|-----------|--------------------|\n",
    "| eP1_epsxq_prc     | 0.0051  | 0.050         |-0.081|0.044|\n",
    "| eP2_ibq_mkt       | 0.0057  | 0.048         |-0.072|0.046|\n",
    "\n",
    "Observe that the 2 variables does not differ by much. \n",
    "\n",
    "I do think computing Earning/Price using the **first** method would be better in some case, as the market capalizations of firms changes everytime the stock price changes, providing a lot more violatility. However, since we are working with monthly data, our data is a lot less noisy.\n",
    "\n",
    "![alt text](3cdd4a17-61e1-4811-8679-d67bb365d1ee.png)\n",
    "![alt text](f8d949fc-9213-4955-8ce6-b8504425151b.png)\n",
    "![alt text](75dd6442-a3ed-49d7-af10-126c90862133.png)"
   ]
  },
  {
   "cell_type": "markdown",
   "metadata": {},
   "source": [
    "### Part 5\n",
    "\n",
    "Using the risk free rates extracted from the Fama-French model, we are able to yield the rolling beta information:\n",
    "\n",
    "1. The average rolling beta amonst all stock is is 1.32.\n",
    "2. In total, we have 22010 obervaions. Which averages to around 222 obervations per stock. Given complete dataset, we should expect 276 observations. The discrepancy comes from not all stock from NASDAQ have returns during 2000 to 2023. For example Tesla only went public in 2010.\n",
    "\n",
    "Summary of information for beta (across all stock):\n",
    "count       22010\n",
    "\n",
    "mean         1.33\n",
    "\n",
    "std          0.75\n",
    "\n",
    "min         -2.57\n",
    "\n",
    "25%          0.83\n",
    "\n",
    "max          7.96\n",
    "\n",
    "1st percentile 0.036\n",
    "\n",
    "99th percentile 3.83\n"
   ]
  },
  {
   "cell_type": "markdown",
   "metadata": {},
   "source": [
    "#### 6 Idiosyncratic volatility\n",
    "\n",
    "Based off of information and code provided in the tutorial, below is the idosyncratic volatility. This is generated from using the Fama-French model, estimating the 3 factor beta between return of each stock and finding the residual return for each month.\n",
    "\n",
    "Summarty of statistics for Idiosyncratic volatility (across all stock)\n",
    "count: 22695\n",
    "\n",
    "mean: 0.09 \n",
    "\n",
    "std: 0.05\n",
    "\n",
    "min: 0.02\n",
    "\n",
    "max: 0.48\n",
    "\n",
    "1st percentile: 0.027\n",
    "\n",
    "99th percentile: 0.278\n",
    "\n",
    "Note: the Data are merged into a dataframe call `q36MergedData`.\n"
   ]
  },
  {
   "cell_type": "markdown",
   "metadata": {},
   "source": [
    "#### 7. Testing Asset Pricing Model Validity\n",
    "\n",
    "Using T-statistic test, I was able to verify that both factors were priced in for both models.\n",
    "\n",
    "**t = (𝛽̄) / (σ𝛽 / √n)**\n",
    "\n",
    "where:\n",
    "- **𝛽̄** = Mean of the beta values\n",
    "- **σ𝛽** = Standard deviation of the beta values\n",
    "- **n** = Number of observations\n",
    "- **√n** = Square root of the number of observations\n",
    "\n",
    " Below is a table for the summary of the T stat test:\n",
    "\n",
    "| Variable          | T statistics result|\n",
    "|-------------------|-----------|\n",
    "| CAPM Beta     | 75.7  |\n",
    "| Fama-French Market Beta       | 37.1  |\n",
    "| Fama-French High Minus Low Beta |-8.0  |\n",
    "| Fama-French Small Minus Big Beta       | 5.7  |\n",
    "\n",
    "Here we see that the beta for high minus low is negative, this is most of the high minus low betas in my computations are negative. Thus the mean of the Fama-French Small Minus Big Beta is negative."
   ]
  },
  {
   "cell_type": "markdown",
   "metadata": {},
   "source": [
    "![alt text](a6680625-a47d-4463-9d48-5d4dcf7ce71b.png) ![alt text](8801ab11-e76a-48a6-ad69-bc6b063bc2e4.png)"
   ]
  },
  {
   "cell_type": "markdown",
   "metadata": {},
   "source": [
    "#### Alternative plots\n",
    "\n",
    "After updating my data set, I was able to get a different graph. This does look a lot closer to the lecture material. However there are many horizontal dots, indicating wrong doings on my behalf at some point of the calculation.\n",
    "\n",
    "![alt text](aace6d60-ec26-4abe-b594-432c2d6e86a1.png)\n",
    "![alt text](01feaedb-b0a9-4739-90a4-4f125fc8889d.png)\n"
   ]
  }
 ],
 "metadata": {
  "language_info": {
   "name": "python"
  }
 },
 "nbformat": 4,
 "nbformat_minor": 2
}
